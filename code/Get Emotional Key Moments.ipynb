{
 "cells": [
  {
   "cell_type": "code",
   "execution_count": 1,
   "id": "3b8cf7a8",
   "metadata": {},
   "outputs": [],
   "source": [
    "import pandas as pd\n",
    "import os"
   ]
  },
  {
   "cell_type": "code",
   "execution_count": 2,
   "id": "595d5038",
   "metadata": {},
   "outputs": [
    {
     "name": "stdout",
     "output_type": "stream",
     "text": [
      "      timestamp  emotion\n",
      "0  1.633597e+09  NEUTRAL\n",
      "1  1.633597e+09    ANGER\n",
      "2  1.633597e+09    ANGER\n",
      "3  1.633597e+09    ANGER\n",
      "4  1.633597e+09    ANGER\n"
     ]
    }
   ],
   "source": [
    "anger_moments = pd.read_csv(\"../raw datasets/EmoKey Short/key_moments/ANGER.csv\")\n",
    "print(anger_moments)"
   ]
  },
  {
   "cell_type": "code",
   "execution_count": 3,
   "id": "0f5b9035",
   "metadata": {},
   "outputs": [
    {
     "name": "stdout",
     "output_type": "stream",
     "text": [
      "                      timestamp  emotion\n",
      "0 2021-10-07 09:02:39.198923111  NEUTRAL\n",
      "1 2021-10-07 09:03:23.419662952    ANGER\n",
      "2 2021-10-07 09:03:59.724978924    ANGER\n",
      "3 2021-10-07 09:04:20.861555099    ANGER\n",
      "4 2021-10-07 09:04:31.276995897    ANGER\n"
     ]
    }
   ],
   "source": [
    "anger_moments[\"timestamp\"] = pd.to_datetime(anger_moments[\"timestamp\"], unit='s')\n",
    "print(anger_moments)"
   ]
  },
  {
   "cell_type": "code",
   "execution_count": 4,
   "id": "aa31345d",
   "metadata": {},
   "outputs": [
    {
     "name": "stdout",
     "output_type": "stream",
     "text": [
      "0             0 days 00:00:00\n",
      "1   0 days 00:00:44.220739841\n",
      "2   0 days 00:01:20.526055813\n",
      "3   0 days 00:01:41.662631988\n",
      "4   0 days 00:01:52.078072786\n",
      "Name: Relative_Time, dtype: timedelta64[ns]\n"
     ]
    }
   ],
   "source": [
    "\n",
    "anger_moments[\"Start_Time\"] = anger_moments[\"timestamp\"].min()\n",
    "anger_moments[\"Relative_Time\"] = anger_moments[\"timestamp\"] - anger_moments[\"Start_Time\"]\n",
    "print(anger_moments[\"Relative_Time\"])"
   ]
  },
  {
   "cell_type": "code",
   "execution_count": 6,
   "id": "e79efe91",
   "metadata": {},
   "outputs": [
    {
     "name": "stdout",
     "output_type": "stream",
     "text": [
      "2021-06-23 15:33:20.421875000\n",
      "2893    0 days 00:00:22.710937500\n",
      "5340       0 days 00:00:41.937500\n",
      "10090      0 days 00:01:19.203125\n",
      "28802   0 days 00:03:46.164062500\n",
      "35508   0 days 00:04:38.851562500\n",
      "38118   0 days 00:04:59.398437500\n",
      "42529   0 days 00:05:34.054687500\n",
      "Name: Relative_Time, dtype: timedelta64[ns]\n"
     ]
    }
   ],
   "source": [
    "anger_recording = pd.read_csv(\"../raw datasets/EmoKey Short/muse_wearable_data/1/FEAR.csv\")\n",
    "angry_moments = anger_recording[[\"TimeStamp\", \"Key_Moments\"]].loc[anger_recording[\"Key_Moments\"] == 1]\n",
    "start_time = anger_recording.iloc[0, 0]\n",
    "\n",
    "angry_moments[\"Start_Time\"] = start_time\n",
    "angry_moments[\"TimeStamp\"] = pd.to_datetime(angry_moments[\"TimeStamp\"])\n",
    "angry_moments[\"Start_Time\"] = pd.to_datetime(angry_moments[\"Start_Time\"])\n",
    "angry_moments[\"Relative_Time\"] = angry_moments[\"TimeStamp\"] - angry_moments[\"Start_Time\"]\n",
    "\n",
    "print(start_time)\n",
    "print(angry_moments[\"Relative_Time\"])"
   ]
  },
  {
   "cell_type": "code",
   "execution_count": 54,
   "id": "9bcf0e29",
   "metadata": {},
   "outputs": [
    {
     "name": "stdout",
     "output_type": "stream",
     "text": [
      "       Delta_TP9  Delta_AF7  Delta_AF8  Delta_TP10\n",
      "0       0.830004   0.755541   0.853522    0.751755\n",
      "1       0.830004   0.755541   0.855489    0.751755\n",
      "2       0.830004   0.755541   0.857456    0.751755\n",
      "3       0.830004   0.755541   0.859422    0.751755\n",
      "4       0.830004   0.755541   0.861389    0.751755\n",
      "...          ...        ...        ...         ...\n",
      "10367   1.231175   1.106449   2.046298    1.566112\n",
      "10368   1.231175   1.106449   2.046298    1.566112\n",
      "10369   1.231175   1.106449   2.046298    1.566112\n",
      "10370   1.231175   1.106449   2.046298    1.566112\n",
      "10371   1.231175   1.106449   2.046298    1.566112\n",
      "\n",
      "[10372 rows x 4 columns]\n",
      "                       TimeStamp  Delta_Aggregate  Theta_Aggregate  \\\n",
      "0  2021-06-23 15:30:17.718750000         0.797706         0.376777   \n",
      "1  2021-06-23 15:30:17.726562500         0.798197         0.377585   \n",
      "2  2021-06-23 15:30:17.734375000         0.798689         0.378393   \n",
      "3  2021-06-23 15:30:17.742187500         0.799181         0.379200   \n",
      "4  2021-06-23 15:30:17.750000000         0.799672         0.380008   \n",
      "\n",
      "   Alpha_Aggregate  Beta_Aggregate  Gamma_Aggregate  \n",
      "0         0.803630        0.531152         0.313980  \n",
      "1         0.803975        0.531228         0.313947  \n",
      "2         0.804320        0.531304         0.313914  \n",
      "3         0.804665        0.531379         0.313881  \n",
      "4         0.805010        0.531455         0.313848  \n"
     ]
    }
   ],
   "source": [
    "df = pd.read_csv(\"../raw datasets/EmoKey Short/muse_wearable_data/1/ANGER.csv\")\n",
    "# df = df.filter(axis=1, regex=\"^(Delta|Theta|Alpha|Beta|Gamma)_(TP9|AF7|AF8|TP10)\")\n",
    "print(df.filter(regex=\"^Delta_\"))\n",
    "\n",
    "df[\"Delta_Aggregate\"] = df.filter(regex=\"^Delta_\").mean(axis=1)\n",
    "df[\"Theta_Aggregate\"] = df.filter(regex=\"^Theta_\").mean(axis=1)\n",
    "df[\"Alpha_Aggregate\"] = df.filter(regex=\"^Alpha_\").mean(axis=1)\n",
    "df[\"Beta_Aggregate\"] = df.filter(regex=\"^Beta_\").mean(axis=1)\n",
    "df[\"Gamma_Aggregate\"] = df.filter(regex=\"^Gamma_\").mean(axis=1)\n",
    "df = df[[\"TimeStamp\", \"Delta_Aggregate\", \"Theta_Aggregate\", \"Alpha_Aggregate\", \"Beta_Aggregate\", \"Gamma_Aggregate\"]]\n",
    "print(df.head())"
   ]
  },
  {
   "cell_type": "code",
   "execution_count": 53,
   "id": "971dbe37",
   "metadata": {},
   "outputs": [
    {
     "data": {
      "text/plain": [
       "[1, 2, 3, 2, 3, 4]"
      ]
     },
     "execution_count": 53,
     "metadata": {},
     "output_type": "execute_result"
    }
   ],
   "source": [
    "[1,2,3] + [2,3,4]"
   ]
  }
 ],
 "metadata": {
  "kernelspec": {
   "display_name": "neuromodulation",
   "language": "python",
   "name": "python3"
  },
  "language_info": {
   "codemirror_mode": {
    "name": "ipython",
    "version": 3
   },
   "file_extension": ".py",
   "mimetype": "text/x-python",
   "name": "python",
   "nbconvert_exporter": "python",
   "pygments_lexer": "ipython3",
   "version": "3.12.9"
  }
 },
 "nbformat": 4,
 "nbformat_minor": 5
}

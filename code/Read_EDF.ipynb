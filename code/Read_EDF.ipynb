{
 "cells": [
  {
   "cell_type": "code",
   "execution_count": 9,
   "id": "2c30169e",
   "metadata": {},
   "outputs": [
    {
     "name": "stdout",
     "output_type": "stream",
     "text": [
      "Extracting EDF parameters from c:\\Users\\Administrator\\Documents\\EEG_Social_Media_Analysis\\sub-09_task-emotion_eeg.edf...\n",
      "EDF file detected\n",
      "Setting channel info structure...\n",
      "Creating raw.info structure...\n",
      "Reading 0 ... 6578399  =      0.000 ... 10963.998 secs...\n"
     ]
    }
   ],
   "source": [
    "import mne\n",
    "file_path = \"sub-09_task-emotion_eeg.edf\"\n",
    "raw = mne.io.read_raw_edf(file_path, preload=True)"
   ]
  },
  {
   "cell_type": "code",
   "execution_count": 10,
   "id": "04b5ce42",
   "metadata": {},
   "outputs": [
    {
     "name": "stdout",
     "output_type": "stream",
     "text": [
      "Extracting EDF parameters from c:\\Users\\Administrator\\Documents\\EEG_Social_Media_Analysis\\sub-09_task-emotion_eeg.edf...\n",
      "EDF file detected\n",
      "Setting channel info structure...\n",
      "Creating raw.info structure...\n",
      "Reading 0 ... 6578399  =      0.000 ... 10963.998 secs...\n",
      "EDF file channels: ['Fp1', 'Fpz', 'Fp2', 'AF7', 'AF3', 'AF4', 'AF8', 'F7', 'F5', 'F3', 'F1', 'Fz', 'F2', 'F4', 'F6', 'F8', 'FT7', 'FC5', 'FC3', 'FC1', 'FCz', 'FC2', 'FC4', 'FC6', 'FT8', 'T7', 'C5', 'C3', 'C1', 'Cz', 'C2', 'C4', 'C6', 'T8', 'TP7', 'CP5', 'CP3', 'CP1', 'CPz', 'CP2', 'CP4', 'CP6', 'TP8', 'P7', 'P5', 'P3', 'P1', 'Pz', 'P2', 'P4', 'P6', 'P8', 'PO7', 'PO3', 'POz', 'PO4', 'PO8', 'O1', 'Oz', 'O2', 'F9', 'F10', 'TP9', 'TP10']\n"
     ]
    }
   ],
   "source": [
    "import mne\n",
    "import pandas as pd\n",
    "\n",
    "# Load EDF file\n",
    "edf_path = \"sub-09_task-emotion_eeg.edf\"\n",
    "raw = mne.io.read_raw_edf(edf_path, preload=True)\n",
    "\n",
    "print(\"EDF file channels:\", raw.ch_names)\n"
   ]
  },
  {
   "cell_type": "code",
   "execution_count": 11,
   "id": "ffa17c53",
   "metadata": {},
   "outputs": [
    {
     "name": "stdout",
     "output_type": "stream",
     "text": [
      "NOTE: pick_channels() is a legacy function. New code should use inst.pick(...).\n",
      "CSV file saved as eeg_data.csv\n"
     ]
    }
   ],
   "source": [
    "\n",
    "# Pick only the desired channels\n",
    "desired_channels = ['TP9', 'AF7', 'AF8', 'TP10']\n",
    "raw.pick_channels(desired_channels)\n",
    "\n",
    "# Get data and timestamps\n",
    "data, times = raw.get_data(return_times=True)  # data shape: (n_channels, n_times)\n",
    "\n",
    "# Create a DataFrame\n",
    "df = pd.DataFrame(data.T, columns=desired_channels)  # Transpose to shape (n_times, n_channels)\n",
    "df.insert(0, \"timestamp\", times)  # Add timestamp column at the beginning\n",
    "\n",
    "# Save to CSV\n",
    "df.to_csv(\"eeg_data.csv\", index=False)\n",
    "\n",
    "print(\"CSV file saved as eeg_data.csv\")\n"
   ]
  },
  {
   "cell_type": "code",
   "execution_count": 12,
   "id": "af853dcd",
   "metadata": {},
   "outputs": [
    {
     "name": "stdout",
     "output_type": "stream",
     "text": [
      "EDF file channels: ['TP9', 'AF7', 'AF8', 'TP10']\n"
     ]
    }
   ],
   "source": [
    "print(\"EDF file channels:\", raw.ch_names)\n"
   ]
  }
 ],
 "metadata": {
  "kernelspec": {
   "display_name": "neuromodulation",
   "language": "python",
   "name": "python3"
  },
  "language_info": {
   "codemirror_mode": {
    "name": "ipython",
    "version": 3
   },
   "file_extension": ".py",
   "mimetype": "text/x-python",
   "name": "python",
   "nbconvert_exporter": "python",
   "pygments_lexer": "ipython3",
   "version": "3.12.9"
  }
 },
 "nbformat": 4,
 "nbformat_minor": 5
}

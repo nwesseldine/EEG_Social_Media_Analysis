{
 "cells": [
  {
   "cell_type": "code",
   "execution_count": 2,
   "id": "401ddc5f",
   "metadata": {},
   "outputs": [],
   "source": [
    "import pandas as pd\n",
    "import os"
   ]
  },
  {
   "cell_type": "code",
   "execution_count": 7,
   "id": "64f8abda",
   "metadata": {},
   "outputs": [],
   "source": [
    "big_featureset = pd.read_csv(r\"..\\featuresets\\Kaggle Emotions Dataset\\emotions.csv\").columns.tolist()\n",
    "small_featureset = pd.read_csv(r\"..\\featuresets\\original_data_2025-07-16_09-13.csv\").columns.tolist()"
   ]
  },
  {
   "cell_type": "code",
   "execution_count": 10,
   "id": "dd7413d5",
   "metadata": {},
   "outputs": [
    {
     "name": "stdout",
     "output_type": "stream",
     "text": [
      "['Timestep', 'lag1_mean_0', 'lag1_mean_1', 'lag1_mean_2', 'lag1_mean_3', 'lag1_mean_d_h2h1_0', 'lag1_mean_d_h2h1_1', 'lag1_mean_d_h2h1_2', 'lag1_mean_d_h2h1_3', 'lag1_mean_q1_0', 'lag1_mean_q1_1', 'lag1_mean_q1_2', 'lag1_mean_q1_3', 'lag1_mean_q2_0', 'lag1_mean_q2_1', 'lag1_mean_q2_2', 'lag1_mean_q2_3', 'lag1_mean_d_q1q2_0', 'lag1_mean_d_q1q2_1', 'lag1_mean_d_q1q2_2', 'lag1_mean_d_q1q2_3', 'lag1_mean_d_q1q3_0', 'lag1_mean_d_q1q3_1', 'lag1_mean_d_q1q3_2', 'lag1_mean_d_q1q3_3', 'lag1_mean_d_q1q4_0', 'lag1_mean_d_q1q4_1', 'lag1_mean_d_q1q4_2', 'lag1_mean_d_q1q4_3', 'lag1_mean_d_q2q3_0', 'lag1_mean_d_q2q3_1', 'lag1_mean_d_q2q3_2', 'lag1_mean_d_q2q3_3', 'lag1_mean_d_q2q4_0', 'lag1_mean_d_q2q4_1', 'lag1_mean_d_q2q4_2', 'lag1_mean_d_q2q4_3', 'lag1_std_0', 'lag1_std_1', 'lag1_std_2', 'lag1_std_3', 'lag1_std_d_h2h1_0', 'lag1_std_d_h2h1_1', 'lag1_std_d_h2h1_2', 'lag1_std_d_h2h1_3', 'lag1_skew_0', 'lag1_skew_1', 'lag1_skew_2', 'lag1_skew_3', 'lag1_kurt_0', 'lag1_kurt_1', 'lag1_kurt_2', 'lag1_kurt_3', 'lag1_max_0', 'lag1_max_1', 'lag1_max_2', 'lag1_max_3', 'lag1_max_d_h2h1_0', 'lag1_max_d_h2h1_1', 'lag1_max_d_h2h1_2', 'lag1_max_d_h2h1_3', 'lag1_max_q1_0', 'lag1_max_q1_1', 'lag1_max_q1_2', 'lag1_max_q1_3', 'lag1_max_q2_0', 'lag1_max_q2_1', 'lag1_max_q2_2', 'lag1_max_q2_3', 'lag1_max_d_q1q2_0', 'lag1_max_d_q1q2_1', 'lag1_max_d_q1q2_2', 'lag1_max_d_q1q2_3', 'lag1_max_d_q1q3_0', 'lag1_max_d_q1q3_1', 'lag1_max_d_q1q3_2', 'lag1_max_d_q1q3_3', 'lag1_max_d_q1q4_0', 'lag1_max_d_q1q4_1', 'lag1_max_d_q1q4_2', 'lag1_max_d_q1q4_3', 'lag1_max_d_q2q3_0', 'lag1_max_d_q2q3_1', 'lag1_max_d_q2q3_2', 'lag1_max_d_q2q3_3', 'lag1_max_d_q2q4_0', 'lag1_max_d_q2q4_1', 'lag1_max_d_q2q4_2', 'lag1_max_d_q2q4_3', 'lag1_min_0', 'lag1_min_1', 'lag1_min_2', 'lag1_min_3', 'lag1_min_d_h2h1_0', 'lag1_min_d_h2h1_1', 'lag1_min_d_h2h1_2', 'lag1_min_d_h2h1_3', 'lag1_min_q1_0', 'lag1_min_q1_1', 'lag1_min_q1_2', 'lag1_min_q1_3', 'lag1_min_q2_0', 'lag1_min_q2_1', 'lag1_min_q2_2', 'lag1_min_q2_3', 'lag1_min_d_q1q2_0', 'lag1_min_d_q1q2_1', 'lag1_min_d_q1q2_2', 'lag1_min_d_q1q2_3', 'lag1_min_d_q1q3_0', 'lag1_min_d_q1q3_1', 'lag1_min_d_q1q3_2', 'lag1_min_d_q1q3_3', 'lag1_min_d_q1q4_0', 'lag1_min_d_q1q4_1', 'lag1_min_d_q1q4_2', 'lag1_min_d_q1q4_3', 'lag1_min_d_q2q3_0', 'lag1_min_d_q2q3_1', 'lag1_min_d_q2q3_2', 'lag1_min_d_q2q3_3', 'lag1_min_d_q2q4_0', 'lag1_min_d_q2q4_1', 'lag1_min_d_q2q4_2', 'lag1_min_d_q2q4_3', 'lag1_covM_0_0', 'lag1_covM_0_1', 'lag1_covM_0_2', 'lag1_covM_0_3', 'lag1_covM_1_1', 'lag1_covM_1_2', 'lag1_covM_1_3', 'lag1_covM_2_2', 'lag1_covM_2_3', 'lag1_covM_3_3', 'lag1_eigenval_0', 'lag1_eigenval_1', 'lag1_eigenval_2', 'lag1_eigenval_3', 'lag1_logcovM_0_0', 'lag1_logcovM_0_1', 'lag1_logcovM_0_2', 'lag1_logcovM_0_3', 'lag1_logcovM_1_1', 'lag1_logcovM_1_2', 'lag1_logcovM_1_3', 'lag1_logcovM_2_2', 'lag1_logcovM_2_3', 'lag1_logcovM_3_3', 'lag1_topFreq_1_0', 'lag1_topFreq_2_0', 'lag1_topFreq_3_0', 'lag1_topFreq_4_0', 'lag1_topFreq_5_0', 'lag1_topFreq_6_0', 'lag1_topFreq_7_0', 'lag1_topFreq_8_0', 'lag1_topFreq_9_0', 'lag1_topFreq_10_0', 'lag1_topFreq_1_1', 'lag1_topFreq_2_1', 'lag1_topFreq_3_1', 'lag1_topFreq_4_1', 'lag1_topFreq_5_1', 'lag1_topFreq_6_1', 'lag1_topFreq_7_1', 'lag1_topFreq_8_1', 'lag1_topFreq_9_1', 'lag1_topFreq_10_1', 'lag1_topFreq_1_2', 'lag1_topFreq_2_2', 'lag1_topFreq_3_2', 'lag1_topFreq_4_2', 'lag1_topFreq_5_2', 'lag1_topFreq_6_2', 'lag1_topFreq_7_2', 'lag1_topFreq_8_2', 'lag1_topFreq_9_2', 'lag1_topFreq_10_2', 'lag1_topFreq_1_3', 'lag1_topFreq_2_3', 'lag1_topFreq_3_3', 'lag1_topFreq_4_3', 'lag1_topFreq_5_3', 'lag1_topFreq_6_3', 'lag1_topFreq_7_3', 'lag1_topFreq_8_3', 'lag1_topFreq_9_3', 'lag1_topFreq_10_3', 'lag1_freq_010_0', 'lag1_freq_020_0', 'lag1_freq_030_0', 'lag1_freq_041_0', 'lag1_freq_051_0', 'lag1_freq_061_0', 'lag1_freq_071_0', 'lag1_freq_081_0', 'lag1_freq_091_0', 'lag1_freq_101_0', 'lag1_freq_111_0', 'lag1_freq_122_0', 'lag1_freq_132_0', 'lag1_freq_142_0', 'lag1_freq_152_0', 'lag1_freq_162_0', 'lag1_freq_172_0', 'lag1_freq_182_0', 'lag1_freq_193_0', 'lag1_freq_203_0', 'lag1_freq_213_0', 'lag1_freq_223_0', 'lag1_freq_233_0', 'lag1_freq_243_0', 'lag1_freq_253_0', 'lag1_freq_264_0', 'lag1_freq_274_0', 'lag1_freq_284_0', 'lag1_freq_294_0', 'lag1_freq_304_0', 'lag1_freq_314_0', 'lag1_freq_324_0', 'lag1_freq_334_0', 'lag1_freq_345_0', 'lag1_freq_355_0', 'lag1_freq_365_0', 'lag1_freq_375_0', 'lag1_freq_385_0', 'lag1_freq_395_0', 'lag1_freq_405_0', 'lag1_freq_416_0', 'lag1_freq_426_0', 'lag1_freq_436_0', 'lag1_freq_446_0', 'lag1_freq_456_0', 'lag1_freq_466_0', 'lag1_freq_476_0', 'lag1_freq_486_0', 'lag1_freq_517_0', 'lag1_freq_527_0', 'lag1_freq_537_0', 'lag1_freq_547_0', 'lag1_freq_557_0', 'lag1_freq_568_0', 'lag1_freq_578_0', 'lag1_freq_588_0', 'lag1_freq_598_0', 'lag1_freq_608_0', 'lag1_freq_618_0', 'lag1_freq_628_0', 'lag1_freq_639_0', 'lag1_freq_649_0', 'lag1_freq_659_0', 'lag1_freq_669_0', 'lag1_freq_679_0', 'lag1_freq_689_0', 'lag1_freq_699_0', 'lag1_freq_709_0', 'lag1_freq_720_0', 'lag1_freq_730_0', 'lag1_freq_740_0', 'lag1_freq_750_0', 'lag1_freq_010_1', 'lag1_freq_020_1', 'lag1_freq_030_1', 'lag1_freq_041_1', 'lag1_freq_051_1', 'lag1_freq_061_1', 'lag1_freq_071_1', 'lag1_freq_081_1', 'lag1_freq_091_1', 'lag1_freq_101_1', 'lag1_freq_111_1', 'lag1_freq_122_1', 'lag1_freq_132_1', 'lag1_freq_142_1', 'lag1_freq_152_1', 'lag1_freq_162_1', 'lag1_freq_172_1', 'lag1_freq_182_1', 'lag1_freq_193_1', 'lag1_freq_203_1', 'lag1_freq_213_1', 'lag1_freq_223_1', 'lag1_freq_233_1', 'lag1_freq_243_1', 'lag1_freq_253_1', 'lag1_freq_264_1', 'lag1_freq_274_1', 'lag1_freq_284_1', 'lag1_freq_294_1', 'lag1_freq_304_1', 'lag1_freq_314_1', 'lag1_freq_324_1', 'lag1_freq_334_1', 'lag1_freq_345_1', 'lag1_freq_355_1', 'lag1_freq_365_1', 'lag1_freq_375_1', 'lag1_freq_385_1', 'lag1_freq_395_1', 'lag1_freq_405_1', 'lag1_freq_416_1', 'lag1_freq_426_1', 'lag1_freq_436_1', 'lag1_freq_446_1', 'lag1_freq_456_1', 'lag1_freq_466_1', 'lag1_freq_476_1', 'lag1_freq_486_1', 'lag1_freq_517_1', 'lag1_freq_527_1', 'lag1_freq_537_1', 'lag1_freq_547_1', 'lag1_freq_557_1', 'lag1_freq_568_1', 'lag1_freq_578_1', 'lag1_freq_588_1', 'lag1_freq_598_1', 'lag1_freq_608_1', 'lag1_freq_618_1', 'lag1_freq_628_1', 'lag1_freq_639_1', 'lag1_freq_649_1', 'lag1_freq_659_1', 'lag1_freq_669_1', 'lag1_freq_679_1', 'lag1_freq_689_1', 'lag1_freq_699_1', 'lag1_freq_709_1', 'lag1_freq_720_1', 'lag1_freq_730_1', 'lag1_freq_740_1', 'lag1_freq_750_1', 'lag1_freq_010_2', 'lag1_freq_020_2', 'lag1_freq_030_2', 'lag1_freq_041_2', 'lag1_freq_051_2', 'lag1_freq_061_2', 'lag1_freq_071_2', 'lag1_freq_081_2', 'lag1_freq_091_2', 'lag1_freq_101_2', 'lag1_freq_111_2', 'lag1_freq_122_2', 'lag1_freq_132_2', 'lag1_freq_142_2', 'lag1_freq_152_2', 'lag1_freq_162_2', 'lag1_freq_172_2', 'lag1_freq_182_2', 'lag1_freq_193_2', 'lag1_freq_203_2', 'lag1_freq_213_2', 'lag1_freq_223_2', 'lag1_freq_233_2', 'lag1_freq_243_2', 'lag1_freq_253_2', 'lag1_freq_264_2', 'lag1_freq_274_2', 'lag1_freq_284_2', 'lag1_freq_294_2', 'lag1_freq_304_2', 'lag1_freq_314_2', 'lag1_freq_324_2', 'lag1_freq_334_2', 'lag1_freq_345_2', 'lag1_freq_355_2', 'lag1_freq_365_2', 'lag1_freq_375_2', 'lag1_freq_385_2', 'lag1_freq_395_2', 'lag1_freq_405_2', 'lag1_freq_416_2', 'lag1_freq_426_2', 'lag1_freq_436_2', 'lag1_freq_446_2', 'lag1_freq_456_2', 'lag1_freq_466_2', 'lag1_freq_476_2', 'lag1_freq_486_2', 'lag1_freq_517_2', 'lag1_freq_527_2', 'lag1_freq_537_2', 'lag1_freq_547_2', 'lag1_freq_557_2', 'lag1_freq_568_2', 'lag1_freq_578_2', 'lag1_freq_588_2', 'lag1_freq_598_2', 'lag1_freq_608_2', 'lag1_freq_618_2', 'lag1_freq_628_2', 'lag1_freq_639_2', 'lag1_freq_649_2', 'lag1_freq_659_2', 'lag1_freq_669_2', 'lag1_freq_679_2', 'lag1_freq_689_2', 'lag1_freq_699_2', 'lag1_freq_709_2', 'lag1_freq_720_2', 'lag1_freq_730_2', 'lag1_freq_740_2', 'lag1_freq_750_2', 'lag1_freq_010_3', 'lag1_freq_020_3', 'lag1_freq_030_3', 'lag1_freq_041_3', 'lag1_freq_051_3', 'lag1_freq_061_3', 'lag1_freq_071_3', 'lag1_freq_081_3', 'lag1_freq_091_3', 'lag1_freq_101_3', 'lag1_freq_111_3', 'lag1_freq_122_3', 'lag1_freq_132_3', 'lag1_freq_142_3', 'lag1_freq_152_3', 'lag1_freq_162_3', 'lag1_freq_172_3', 'lag1_freq_182_3', 'lag1_freq_193_3', 'lag1_freq_203_3', 'lag1_freq_213_3', 'lag1_freq_223_3', 'lag1_freq_233_3', 'lag1_freq_243_3', 'lag1_freq_253_3', 'lag1_freq_264_3', 'lag1_freq_274_3', 'lag1_freq_284_3', 'lag1_freq_294_3', 'lag1_freq_304_3', 'lag1_freq_314_3', 'lag1_freq_324_3', 'lag1_freq_334_3', 'lag1_freq_345_3', 'lag1_freq_355_3', 'lag1_freq_365_3', 'lag1_freq_375_3', 'lag1_freq_385_3', 'lag1_freq_395_3', 'lag1_freq_405_3', 'lag1_freq_416_3', 'lag1_freq_426_3', 'lag1_freq_436_3', 'lag1_freq_446_3', 'lag1_freq_456_3', 'lag1_freq_466_3', 'lag1_freq_476_3', 'lag1_freq_486_3', 'lag1_freq_517_3', 'lag1_freq_527_3', 'lag1_freq_537_3', 'lag1_freq_547_3', 'lag1_freq_557_3', 'lag1_freq_568_3', 'lag1_freq_578_3', 'lag1_freq_588_3', 'lag1_freq_598_3', 'lag1_freq_608_3', 'lag1_freq_618_3', 'lag1_freq_628_3', 'lag1_freq_639_3', 'lag1_freq_649_3', 'lag1_freq_659_3', 'lag1_freq_669_3', 'lag1_freq_679_3', 'lag1_freq_689_3', 'lag1_freq_699_3', 'lag1_freq_709_3', 'lag1_freq_720_3', 'lag1_freq_730_3', 'lag1_freq_740_3', 'lag1_freq_750_3', 'mean_0', 'mean_1', 'mean_2', 'mean_3', 'mean_d_h2h1_0', 'mean_d_h2h1_1', 'mean_d_h2h1_2', 'mean_d_h2h1_3', 'mean_q1_0', 'mean_q1_1', 'mean_q1_2', 'mean_q1_3', 'mean_q2_0', 'mean_q2_1', 'mean_q2_2', 'mean_q2_3', 'mean_q3_0', 'mean_q3_1', 'mean_q3_2', 'mean_q3_3', 'mean_q4_0', 'mean_q4_1', 'mean_q4_2', 'mean_q4_3', 'mean_d_q1q2_0', 'mean_d_q1q2_1', 'mean_d_q1q2_2', 'mean_d_q1q2_3', 'mean_d_q1q3_0', 'mean_d_q1q3_1', 'mean_d_q1q3_2', 'mean_d_q1q3_3', 'mean_d_q1q4_0', 'mean_d_q1q4_1', 'mean_d_q1q4_2', 'mean_d_q1q4_3', 'mean_d_q2q3_0', 'mean_d_q2q3_1', 'mean_d_q2q3_2', 'mean_d_q2q3_3', 'mean_d_q2q4_0', 'mean_d_q2q4_1', 'mean_d_q2q4_2', 'mean_d_q2q4_3', 'mean_d_q3q4_0', 'mean_d_q3q4_1', 'mean_d_q3q4_2', 'mean_d_q3q4_3', 'std_0', 'std_1', 'std_2', 'std_3', 'std_d_h2h1_0', 'std_d_h2h1_1', 'std_d_h2h1_2', 'std_d_h2h1_3', 'skew_0', 'skew_1', 'skew_2', 'skew_3', 'kurt_0', 'kurt_1', 'kurt_2', 'kurt_3', 'max_0', 'max_1', 'max_2', 'max_3', 'max_d_h2h1_0', 'max_d_h2h1_1', 'max_d_h2h1_2', 'max_d_h2h1_3', 'max_q1_0', 'max_q1_1', 'max_q1_2', 'max_q1_3', 'max_q2_0', 'max_q2_1', 'max_q2_2', 'max_q2_3', 'max_q3_0', 'max_q3_1', 'max_q3_2', 'max_q3_3', 'max_q4_0', 'max_q4_1', 'max_q4_2', 'max_q4_3', 'max_d_q1q2_0', 'max_d_q1q2_1', 'max_d_q1q2_2', 'max_d_q1q2_3', 'max_d_q1q3_0', 'max_d_q1q3_1', 'max_d_q1q3_2', 'max_d_q1q3_3', 'max_d_q1q4_0', 'max_d_q1q4_1', 'max_d_q1q4_2', 'max_d_q1q4_3', 'max_d_q2q3_0', 'max_d_q2q3_1', 'max_d_q2q3_2', 'max_d_q2q3_3', 'max_d_q2q4_0', 'max_d_q2q4_1', 'max_d_q2q4_2', 'max_d_q2q4_3', 'max_d_q3q4_0', 'max_d_q3q4_1', 'max_d_q3q4_2', 'max_d_q3q4_3', 'min_0', 'min_1', 'min_2', 'min_3', 'min_d_h2h1_0', 'min_d_h2h1_1', 'min_d_h2h1_2', 'min_d_h2h1_3', 'min_q1_0', 'min_q1_1', 'min_q1_2', 'min_q1_3', 'min_q2_0', 'min_q2_1', 'min_q2_2', 'min_q2_3', 'min_q3_0', 'min_q3_1', 'min_q3_2', 'min_q3_3', 'min_q4_0', 'min_q4_1', 'min_q4_2', 'min_q4_3', 'min_d_q1q2_0', 'min_d_q1q2_1', 'min_d_q1q2_2', 'min_d_q1q2_3', 'min_d_q1q3_0', 'min_d_q1q3_1', 'min_d_q1q3_2', 'min_d_q1q3_3', 'min_d_q1q4_0', 'min_d_q1q4_1', 'min_d_q1q4_2', 'min_d_q1q4_3', 'min_d_q2q3_0', 'min_d_q2q3_1', 'min_d_q2q3_2', 'min_d_q2q3_3', 'min_d_q2q4_0', 'min_d_q2q4_1', 'min_d_q2q4_2', 'min_d_q2q4_3', 'min_d_q3q4_0', 'min_d_q3q4_1', 'min_d_q3q4_2', 'min_d_q3q4_3', 'covM_0_0', 'covM_0_1', 'covM_0_2', 'covM_0_3', 'covM_1_1', 'covM_1_2', 'covM_1_3', 'covM_2_2', 'covM_2_3', 'covM_3_3', 'eigenval_0', 'eigenval_1', 'eigenval_2', 'eigenval_3', 'logcovM_0_0', 'logcovM_0_1', 'logcovM_0_2', 'logcovM_0_3', 'logcovM_1_1', 'logcovM_1_2', 'logcovM_1_3', 'logcovM_2_2', 'logcovM_2_3', 'logcovM_3_3', 'topFreq_1_0', 'topFreq_2_0', 'topFreq_3_0', 'topFreq_4_0', 'topFreq_5_0', 'topFreq_6_0', 'topFreq_7_0', 'topFreq_8_0', 'topFreq_9_0', 'topFreq_10_0', 'topFreq_1_1', 'topFreq_2_1', 'topFreq_3_1', 'topFreq_4_1', 'topFreq_5_1', 'topFreq_6_1', 'topFreq_7_1', 'topFreq_8_1', 'topFreq_9_1', 'topFreq_10_1', 'topFreq_1_2', 'topFreq_2_2', 'topFreq_3_2', 'topFreq_4_2', 'topFreq_5_2', 'topFreq_6_2', 'topFreq_7_2', 'topFreq_8_2', 'topFreq_9_2', 'topFreq_10_2', 'topFreq_1_3', 'topFreq_2_3', 'topFreq_3_3', 'topFreq_4_3', 'topFreq_5_3', 'topFreq_6_3', 'topFreq_7_3', 'topFreq_8_3', 'topFreq_9_3', 'topFreq_10_3', 'freq_010_0', 'freq_020_0', 'freq_030_0', 'freq_041_0', 'freq_051_0', 'freq_061_0', 'freq_071_0', 'freq_081_0', 'freq_091_0', 'freq_101_0', 'freq_111_0', 'freq_122_0', 'freq_132_0', 'freq_142_0', 'freq_152_0', 'freq_162_0', 'freq_172_0', 'freq_182_0', 'freq_193_0', 'freq_203_0', 'freq_213_0', 'freq_223_0', 'freq_233_0', 'freq_243_0', 'freq_253_0', 'freq_264_0', 'freq_274_0', 'freq_284_0', 'freq_294_0', 'freq_304_0', 'freq_314_0', 'freq_324_0', 'freq_334_0', 'freq_345_0', 'freq_355_0', 'freq_365_0', 'freq_375_0', 'freq_385_0', 'freq_395_0', 'freq_405_0', 'freq_416_0', 'freq_426_0', 'freq_436_0', 'freq_446_0', 'freq_456_0', 'freq_466_0', 'freq_476_0', 'freq_486_0', 'freq_517_0', 'freq_527_0', 'freq_537_0', 'freq_547_0', 'freq_557_0', 'freq_568_0', 'freq_578_0', 'freq_588_0', 'freq_598_0', 'freq_608_0', 'freq_618_0', 'freq_628_0', 'freq_639_0', 'freq_649_0', 'freq_659_0', 'freq_669_0', 'freq_679_0', 'freq_689_0', 'freq_699_0', 'freq_709_0', 'freq_720_0', 'freq_730_0', 'freq_740_0', 'freq_750_0', 'freq_010_1', 'freq_020_1', 'freq_030_1', 'freq_041_1', 'freq_051_1', 'freq_061_1', 'freq_071_1', 'freq_081_1', 'freq_091_1', 'freq_101_1', 'freq_111_1', 'freq_122_1', 'freq_132_1', 'freq_142_1', 'freq_152_1', 'freq_162_1', 'freq_172_1', 'freq_182_1', 'freq_193_1', 'freq_203_1', 'freq_213_1', 'freq_223_1', 'freq_233_1', 'freq_243_1', 'freq_253_1', 'freq_264_1', 'freq_274_1', 'freq_284_1', 'freq_294_1', 'freq_304_1', 'freq_314_1', 'freq_324_1', 'freq_334_1', 'freq_345_1', 'freq_355_1', 'freq_365_1', 'freq_375_1', 'freq_385_1', 'freq_395_1', 'freq_405_1', 'freq_416_1', 'freq_426_1', 'freq_436_1', 'freq_446_1', 'freq_456_1', 'freq_466_1', 'freq_476_1', 'freq_486_1', 'freq_517_1', 'freq_527_1', 'freq_537_1', 'freq_547_1', 'freq_557_1', 'freq_568_1', 'freq_578_1', 'freq_588_1', 'freq_598_1', 'freq_608_1', 'freq_618_1', 'freq_628_1', 'freq_639_1', 'freq_649_1', 'freq_659_1', 'freq_669_1', 'freq_679_1', 'freq_689_1', 'freq_699_1', 'freq_709_1', 'freq_720_1', 'freq_730_1', 'freq_740_1', 'freq_750_1', 'freq_010_2', 'freq_020_2', 'freq_030_2', 'freq_041_2', 'freq_051_2', 'freq_061_2', 'freq_071_2', 'freq_081_2', 'freq_091_2', 'freq_101_2', 'freq_111_2', 'freq_122_2', 'freq_132_2', 'freq_142_2', 'freq_152_2', 'freq_162_2', 'freq_172_2', 'freq_182_2', 'freq_193_2', 'freq_203_2', 'freq_213_2', 'freq_223_2', 'freq_233_2', 'freq_243_2', 'freq_253_2', 'freq_264_2', 'freq_274_2', 'freq_284_2', 'freq_294_2', 'freq_304_2', 'freq_314_2', 'freq_324_2', 'freq_334_2', 'freq_345_2', 'freq_355_2', 'freq_365_2', 'freq_375_2', 'freq_385_2', 'freq_395_2', 'freq_405_2', 'freq_416_2', 'freq_426_2', 'freq_436_2', 'freq_446_2', 'freq_456_2', 'freq_466_2', 'freq_476_2', 'freq_486_2', 'freq_517_2', 'freq_527_2', 'freq_537_2', 'freq_547_2', 'freq_557_2', 'freq_568_2', 'freq_578_2', 'freq_588_2', 'freq_598_2', 'freq_608_2', 'freq_618_2', 'freq_628_2', 'freq_639_2', 'freq_649_2', 'freq_659_2', 'freq_669_2', 'freq_679_2', 'freq_689_2', 'freq_699_2', 'freq_709_2', 'freq_720_2', 'freq_730_2', 'freq_740_2', 'freq_750_2', 'freq_010_3', 'freq_020_3', 'freq_030_3', 'freq_041_3', 'freq_051_3', 'freq_061_3', 'freq_071_3', 'freq_081_3', 'freq_091_3', 'freq_101_3', 'freq_111_3', 'freq_122_3', 'freq_132_3', 'freq_142_3', 'freq_152_3', 'freq_162_3', 'freq_172_3', 'freq_182_3', 'freq_193_3', 'freq_203_3', 'freq_213_3', 'freq_223_3', 'freq_233_3', 'freq_243_3', 'freq_253_3', 'freq_264_3', 'freq_274_3', 'freq_284_3', 'freq_294_3', 'freq_304_3', 'freq_314_3', 'freq_324_3', 'freq_334_3', 'freq_345_3', 'freq_355_3', 'freq_365_3', 'freq_375_3', 'freq_385_3', 'freq_395_3', 'freq_405_3', 'freq_416_3', 'freq_426_3', 'freq_436_3', 'freq_446_3', 'freq_456_3', 'freq_466_3', 'freq_476_3', 'freq_486_3', 'freq_517_3', 'freq_527_3', 'freq_537_3', 'freq_547_3', 'freq_557_3', 'freq_568_3', 'freq_578_3', 'freq_588_3', 'freq_598_3', 'freq_608_3', 'freq_618_3', 'freq_628_3', 'freq_639_3', 'freq_649_3', 'freq_659_3', 'freq_669_3', 'freq_679_3', 'freq_689_3', 'freq_699_3', 'freq_709_3', 'freq_720_3', 'freq_730_3', 'freq_740_3', 'freq_750_3', 'Label']\n",
      "990\n"
     ]
    }
   ],
   "source": [
    "deviations = [x for x in small_featureset if x not in big_featureset]\n",
    "print(deviations)\n",
    "print(len(deviations))"
   ]
  },
  {
   "cell_type": "code",
   "execution_count": null,
   "id": "5b128ee5",
   "metadata": {},
   "outputs": [],
   "source": [
    "for feature in big_featureset:\n",
    "    print(feature)"
   ]
  },
  {
   "cell_type": "code",
   "execution_count": null,
   "id": "0e768bd7",
   "metadata": {},
   "outputs": [],
   "source": [
    "for feature in small_featureset:\n",
    "    print(feature)"
   ]
  },
  {
   "cell_type": "code",
   "execution_count": null,
   "id": "1e0212be",
   "metadata": {},
   "outputs": [],
   "source": [
    "# Some code to practice natural sorting and see which files are missing a lot of information\n",
    "\n",
    "path = \"../cleaned datasets/Emotion cleaned/\"\n",
    "\n",
    "def natural_sort_key(s):\n",
    "        return [int(text) if text.isdigit() else text.lower() for text in re.split('([0-9]+)', s)]\n",
    "\n",
    "sorted_entries = sorted(os.listdir(path), key=natural_sort_key)\n",
    "for entry in sorted_entries:\n",
    "    file = pd.read_csv(os.path.join(path, entry))\n",
    "    shape = file.shape\n",
    "    print(entry, shape)"
   ]
  }
 ],
 "metadata": {
  "kernelspec": {
   "display_name": "neuromodulation",
   "language": "python",
   "name": "python3"
  },
  "language_info": {
   "codemirror_mode": {
    "name": "ipython",
    "version": 3
   },
   "file_extension": ".py",
   "mimetype": "text/x-python",
   "name": "python",
   "nbconvert_exporter": "python",
   "pygments_lexer": "ipython3",
   "version": "3.12.9"
  }
 },
 "nbformat": 4,
 "nbformat_minor": 5
}

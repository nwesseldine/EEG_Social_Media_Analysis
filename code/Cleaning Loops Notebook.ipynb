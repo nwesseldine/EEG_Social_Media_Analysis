{
 "cells": [
  {
   "cell_type": "code",
   "execution_count": null,
   "id": "b25d812c",
   "metadata": {},
   "outputs": [],
   "source": [
    "from EEG_Mendeley_cleaning import muse_clean"
   ]
  },
  {
   "cell_type": "markdown",
   "id": "d1041ca0",
   "metadata": {},
   "source": [
    "Single File Cleaning"
   ]
  },
  {
   "cell_type": "code",
   "execution_count": null,
   "id": "66a2cffd",
   "metadata": {},
   "outputs": [],
   "source": []
  },
  {
   "cell_type": "markdown",
   "id": "14873349",
   "metadata": {},
   "source": [
    "Mendeley Cleaning Loop"
   ]
  },
  {
   "cell_type": "code",
   "execution_count": null,
   "id": "72066490",
   "metadata": {},
   "outputs": [],
   "source": [
    "for patient in range(1, 6):\n",
    "    for experiment in range(1, 4):\n",
    "        muse_clean(patient, experiment)\n",
    "        print(f\"Patient {patient} Experiment {experiment} complete...\")\n",
    "\n",
    "print(\"All done!\")"
   ]
  }
 ],
 "metadata": {
  "language_info": {
   "name": "python"
  }
 },
 "nbformat": 4,
 "nbformat_minor": 5
}

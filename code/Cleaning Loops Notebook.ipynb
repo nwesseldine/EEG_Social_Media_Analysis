{
 "cells": [
  {
   "cell_type": "code",
   "execution_count": 1,
   "id": "b25d812c",
   "metadata": {},
   "outputs": [],
   "source": [
    "from EEG_cleaning import muse_clean"
   ]
  },
  {
   "cell_type": "markdown",
   "id": "2bdd9b45",
   "metadata": {},
   "source": [
    "The `muse_clean()` function requests 4 inputs:\n",
    "- `filepath`: The path to the folder containing the dataset in question (relative *or* absolute)\n",
    "- `filename`: The name of the file to clean (include file type extension)\n",
    "- `subject_id`: The unique custom identification of the subject for the output file name\n",
    "- `record_id`: The unique custom identification of the recorded label for the output file name\n",
    "- `new_folder` (*optional*): The name of the outputted folder within the cleaned datasets directory containing all of the cleaned datasets (default to be named \"*cleaned datasets* as well\")"
   ]
  },
  {
   "cell_type": "markdown",
   "id": "d1041ca0",
   "metadata": {},
   "source": [
    "Single File Cleaning"
   ]
  },
  {
   "cell_type": "code",
   "execution_count": 2,
   "id": "66a2cffd",
   "metadata": {},
   "outputs": [],
   "source": [
    "filepath = '../raw datasets/Local Recordings'\n",
    "filename = 'Natalie_2025-07-09--15-49-07_8601963359185541618.csv'\n",
    "subject_id = 'Natalie'\n",
    "record_id = '1'\n",
    "\n",
    "muse_clean(filepath, filename, subject_id, record_id, new_folder='local datasets')"
   ]
  },
  {
   "cell_type": "markdown",
   "id": "14873349",
   "metadata": {},
   "source": [
    "Mendeley Cleaning Loop"
   ]
  },
  {
   "cell_type": "code",
   "execution_count": 3,
   "id": "72066490",
   "metadata": {},
   "outputs": [
    {
     "name": "stdout",
     "output_type": "stream",
     "text": [
      "Patient 1 Experiment 1 complete...\n",
      "Patient 1 Experiment 2 complete...\n",
      "Patient 1 Experiment 3 complete...\n",
      "Patient 2 Experiment 1 complete...\n",
      "Patient 2 Experiment 2 complete...\n",
      "Patient 2 Experiment 3 complete...\n"
     ]
    },
    {
     "name": "stderr",
     "output_type": "stream",
     "text": [
      "c:\\Users\\Administrator\\Documents\\EEG_Social_Media_Analysis\\code\\EEG_cleaning.py:76: DtypeWarning: Columns (38) have mixed types. Specify dtype option on import or set low_memory=False.\n",
      "  df = pd.read_csv(f'{filepath}/{filename}')\n"
     ]
    },
    {
     "name": "stdout",
     "output_type": "stream",
     "text": [
      "Patient 3 Experiment 1 complete...\n",
      "Patient 3 Experiment 2 complete...\n",
      "Patient 3 Experiment 3 complete...\n",
      "Patient 4 Experiment 1 complete...\n",
      "Patient 4 Experiment 2 complete...\n",
      "Patient 4 Experiment 3 complete...\n"
     ]
    },
    {
     "name": "stderr",
     "output_type": "stream",
     "text": [
      "c:\\Users\\Administrator\\Documents\\EEG_Social_Media_Analysis\\code\\EEG_cleaning.py:76: DtypeWarning: Columns (38) have mixed types. Specify dtype option on import or set low_memory=False.\n",
      "  df = pd.read_csv(f'{filepath}/{filename}')\n"
     ]
    },
    {
     "name": "stdout",
     "output_type": "stream",
     "text": [
      "Patient 5 Experiment 1 complete...\n",
      "Patient 5 Experiment 2 complete...\n",
      "Patient 5 Experiment 3 complete...\n",
      "All done!\n"
     ]
    }
   ],
   "source": [
    "import os\n",
    "\n",
    "folder_list = ['../raw datasets/Mendeley/' + folder for folder in os.listdir('../raw datasets/Mendeley/')]\n",
    "\n",
    "for patient in range(1, 6):\n",
    "\n",
    "    current_folder = folder_list[patient - 1]\n",
    "    file_list = os.listdir(current_folder)\n",
    "\n",
    "    for experiment in range(1, 4):\n",
    "\n",
    "        current_file = file_list[experiment - 1]\n",
    "        muse_clean(current_folder, current_file, patient, experiment, 'Mendeley cleaned')\n",
    "        print(f\"Patient {patient} Experiment {experiment} complete...\")\n",
    "\n",
    "print(\"All done!\")"
   ]
  },
  {
   "cell_type": "markdown",
   "id": "aad5cab2",
   "metadata": {},
   "source": [
    "General Cleaning Loop"
   ]
  },
  {
   "cell_type": "code",
   "execution_count": null,
   "id": "a74d553e",
   "metadata": {},
   "outputs": [],
   "source": [
    "def cleaning_loop(folder_list: list, new_folder: str = 'cleaned datasets') -> None:\n",
    "\n",
    "    \"\"\"\n",
    "    Inputs: A list of folder directories containing data, and a list of file names to be cleaned\n",
    "    Outputs: A new folder (customizable name) that contains the cleaned versions of all specified files in all specified folders\n",
    "\n",
    "    This code functions assuming it follows the following file naming scheme:\n",
    "    ```subject{name}-{label}-{label_number}.csv```\n",
    "    \"\"\"\n",
    "\n",
    "    import os\n",
    "\n",
    "    file_exists = True\n",
    "\n",
    "    for folder in folder_list:\n",
    "\n",
    "        try:\n",
    "            cwd = os.getcwd()\n",
    "            os.chdir(folder)\n",
    "            file_list = os.listdir()\n",
    "        except FileNotFoundError:\n",
    "            print(f\"Folder {folder} not found, try again!\")\n",
    "            break\n",
    "\n",
    "        for file in file_list:\n",
    "            subject_id = file.split('-')[0][-1]\n",
    "            label_id = file.split(('-'))[1] + file.split(('-'))[2]\n",
    "\n",
    "            try:\n",
    "                muse_clean(folder, file, subject_id, label_id, new_folder)\n",
    "                print(f\"Patient {subject_id} Experiment {label_id} complete...\")\n",
    "                print(\"All done!\")\n",
    "            except FileNotFoundError:\n",
    "                print(f\"File {file} does not exist, try again!\")\n",
    "                file_exists = False\n",
    "                break\n",
    "\n",
    "        if not file_exists:\n",
    "            break\n",
    "                \n"
   ]
  }
 ],
 "metadata": {
  "kernelspec": {
   "display_name": "neuromodulation",
   "language": "python",
   "name": "python3"
  },
  "language_info": {
   "codemirror_mode": {
    "name": "ipython",
    "version": 3
   },
   "file_extension": ".py",
   "mimetype": "text/x-python",
   "name": "python",
   "nbconvert_exporter": "python",
   "pygments_lexer": "ipython3",
   "version": "3.12.9"
  }
 },
 "nbformat": 4,
 "nbformat_minor": 5
}

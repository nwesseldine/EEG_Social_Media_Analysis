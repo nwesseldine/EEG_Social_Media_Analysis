{
 "cells": [
  {
   "cell_type": "code",
   "execution_count": null,
   "id": "b25d812c",
   "metadata": {},
   "outputs": [],
   "source": [
    "from EEG_Mendeley_cleaning import muse_clean"
   ]
  },
  {
   "cell_type": "markdown",
   "id": "d1041ca0",
   "metadata": {},
   "source": [
    "Single File Cleaning"
   ]
  },
  {
   "cell_type": "code",
   "execution_count": null,
   "id": "66a2cffd",
   "metadata": {},
   "outputs": [],
   "source": []
  },
  {
   "cell_type": "markdown",
   "id": "14873349",
   "metadata": {},
   "source": [
    "Mendeley Cleaning Loop"
   ]
  },
  {
   "cell_type": "code",
   "execution_count": null,
   "id": "72066490",
   "metadata": {},
   "outputs": [],
   "source": [
    "for patient in range(1, 6):\n",
    "    for experiment in range(1, 4):\n",
    "        muse_clean(patient, experiment)\n",
    "        print(f\"Patient {patient} Experiment {experiment} complete...\")\n",
    "\n",
    "print(\"All done!\")"
   ]
  },
  {
   "cell_type": "markdown",
   "id": "aad5cab2",
   "metadata": {},
   "source": [
    "General Cleaning Loop"
   ]
  },
  {
   "cell_type": "code",
   "execution_count": null,
   "id": "a74d553e",
   "metadata": {},
   "outputs": [],
   "source": [
    "def cleaning_loop(folder_list: list, new_folder: str = 'cleaned datasets') -> None:\n",
    "\n",
    "    \"\"\"\n",
    "    Inputs: A list of folder directories containing data, and a list of file names to be cleaned\n",
    "    Outputs: A new folder (customizable name) that contains the cleaned versions of all specified files in all specified folders\n",
    "\n",
    "    This code functions assuming it follows the following file naming scheme:\n",
    "    ```subject{name}-{label}-{label_number}.csv```\n",
    "    \"\"\"\n",
    "\n",
    "    import os\n",
    "\n",
    "    for folder in folder_list:\n",
    "\n",
    "        try:\n",
    "            cwd = os.getcwd()\n",
    "            os.chdir(folder)\n",
    "            file_list = os.listdir()\n",
    "        except FileNotFoundError:\n",
    "            print(f\"Folder {folder} not found, try again!\")\n",
    "            break\n",
    "\n",
    "        for file in file_list:\n",
    "            subject_id = file.split('-')[0][-1]\n",
    "            label_id = file.split(('-'))[1] + file.split(('-'))[2]\n",
    "\n",
    "            try:\n",
    "                muse_clean(folder, file, subject_id, label_id, new_folder)\n",
    "                print(f\"Patient {subject_id} Experiment {label_id} complete...\")\n",
    "                print(\"All done!\")\n",
    "            except FileNotFoundError:\n",
    "                \n"
   ]
  }
 ],
 "metadata": {
  "language_info": {
   "name": "python"
  }
 },
 "nbformat": 4,
 "nbformat_minor": 5
}

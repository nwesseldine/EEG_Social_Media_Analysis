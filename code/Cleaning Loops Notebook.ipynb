{
 "cells": [
  {
   "cell_type": "code",
   "execution_count": 1,
   "id": "b25d812c",
   "metadata": {},
   "outputs": [],
   "source": [
    "from EEG_cleaning import muse_clean"
   ]
  },
  {
   "cell_type": "markdown",
   "id": "2bdd9b45",
   "metadata": {},
   "source": [
    "The `muse_clean()` function requests 4 inputs:\n",
    "- `filepath`: The path to the folder containing the dataset in question (relative *or* absolute)\n",
    "- `filename`: The name of the file to clean (include file type extension)\n",
    "- `subject_id`: The unique custom identification of the subject for the output file name\n",
    "- `record_id`: The unique custom identification of the recorded label for the output file name\n",
    "- `new_folder` (*optional*): The name of the outputted folder within the cleaned datasets directory containing all of the cleaned datasets (default to be named \"*cleaned datasets* as well\")"
   ]
  },
  {
   "cell_type": "markdown",
   "id": "d1041ca0",
   "metadata": {},
   "source": [
    "Single File Cleaning"
   ]
  },
  {
   "cell_type": "code",
   "execution_count": 2,
   "id": "66a2cffd",
   "metadata": {},
   "outputs": [
    {
     "name": "stdout",
     "output_type": "stream",
     "text": [
      "Removed 0 rows with no data or no change compared to previous rows.\n",
      "[]\n"
     ]
    }
   ],
   "source": [
    "filepath = '../raw datasets/Local Recordings'\n",
    "filename = 'Natalie_2025-07-09--15-49-07_8601963359185541618.csv'\n",
    "subject_id = 'Natalie'\n",
    "record_id = '1'\n",
    "\n",
    "muse_clean(filepath, filename, subject_id, record_id, new_folder='local datasets')"
   ]
  },
  {
   "cell_type": "markdown",
   "id": "14873349",
   "metadata": {},
   "source": [
    "Mendeley Cleaning Loop"
   ]
  },
  {
   "cell_type": "code",
   "execution_count": 3,
   "id": "72066490",
   "metadata": {},
   "outputs": [
    {
     "name": "stdout",
     "output_type": "stream",
     "text": [
      "Patient 1 Experiment 1 complete...\n",
      "Patient 1 Experiment 2 complete...\n",
      "Patient 1 Experiment 3 complete...\n",
      "Patient 2 Experiment 1 complete...\n",
      "Patient 2 Experiment 2 complete...\n",
      "Patient 2 Experiment 3 complete...\n"
     ]
    },
    {
     "name": "stderr",
     "output_type": "stream",
     "text": [
      "c:\\Users\\Administrator\\Documents\\EEG_Social_Media_Analysis\\code\\EEG_cleaning.py:79: DtypeWarning: Columns (38) have mixed types. Specify dtype option on import or set low_memory=False.\n",
      "  df = pd.read_csv(f'{filepath}/{filename}')\n"
     ]
    },
    {
     "name": "stdout",
     "output_type": "stream",
     "text": [
      "Patient 3 Experiment 1 complete...\n",
      "Patient 3 Experiment 2 complete...\n",
      "Patient 3 Experiment 3 complete...\n",
      "Patient 4 Experiment 1 complete...\n",
      "Patient 4 Experiment 2 complete...\n",
      "Patient 4 Experiment 3 complete...\n"
     ]
    },
    {
     "name": "stderr",
     "output_type": "stream",
     "text": [
      "c:\\Users\\Administrator\\Documents\\EEG_Social_Media_Analysis\\code\\EEG_cleaning.py:79: DtypeWarning: Columns (38) have mixed types. Specify dtype option on import or set low_memory=False.\n",
      "  df = pd.read_csv(f'{filepath}/{filename}')\n"
     ]
    },
    {
     "name": "stdout",
     "output_type": "stream",
     "text": [
      "Patient 5 Experiment 1 complete...\n",
      "Patient 5 Experiment 2 complete...\n",
      "Patient 5 Experiment 3 complete...\n",
      "All done!\n"
     ]
    }
   ],
   "source": [
    "import os\n",
    "\n",
    "folder_list = ['../raw datasets/Mendeley/' + folder for folder in os.listdir('../raw datasets/Mendeley/')]\n",
    "\n",
    "for patient in range(1, 6):\n",
    "\n",
    "    current_folder = folder_list[patient - 1]\n",
    "    file_list = os.listdir(current_folder)\n",
    "\n",
    "    for experiment in range(1, 4):\n",
    "\n",
    "        current_file = file_list[experiment - 1]\n",
    "        muse_clean(current_folder, current_file, patient, experiment, 'Mendeley cleaned')\n",
    "        print(f\"Patient {patient} Experiment {experiment} complete...\")\n",
    "\n",
    "print(\"All done!\")"
   ]
  },
  {
   "cell_type": "markdown",
   "id": "de653e99",
   "metadata": {},
   "source": [
    "Emotion Cleaning Loop"
   ]
  },
  {
   "cell_type": "code",
   "execution_count": 2,
   "id": "b5c082bc",
   "metadata": {},
   "outputs": [
    {
     "name": "stdout",
     "output_type": "stream",
     "text": [
      "Processing as an Emotions dataset...\n",
      "Key moments found at timestamps: [1624462254.0234375, 1624462275.1640625, 1624462285.578125]\n"
     ]
    },
    {
     "ename": "TypeError",
     "evalue": "unsupported operand type(s) for +: 'int' and 'list'",
     "output_type": "error",
     "traceback": [
      "\u001b[31m---------------------------------------------------------------------------\u001b[39m",
      "\u001b[31mTypeError\u001b[39m                                 Traceback (most recent call last)",
      "\u001b[36mCell\u001b[39m\u001b[36m \u001b[39m\u001b[32mIn[2]\u001b[39m\u001b[32m, line 14\u001b[39m\n\u001b[32m     10\u001b[39m \u001b[38;5;28;01mfor\u001b[39;00m experiment \u001b[38;5;129;01min\u001b[39;00m \u001b[38;5;28mrange\u001b[39m(\u001b[32m1\u001b[39m, \u001b[32m5\u001b[39m):\n\u001b[32m     11\u001b[39m     \u001b[38;5;66;03m# print(current_folder)\u001b[39;00m\n\u001b[32m     12\u001b[39m     \u001b[38;5;66;03m# print(file_list)\u001b[39;00m\n\u001b[32m     13\u001b[39m     current_file = file_list[experiment - \u001b[32m1\u001b[39m]\n\u001b[32m---> \u001b[39m\u001b[32m14\u001b[39m     \u001b[43mmuse_clean\u001b[49m\u001b[43m(\u001b[49m\u001b[43mcurrent_folder\u001b[49m\u001b[43m,\u001b[49m\u001b[43m \u001b[49m\u001b[43mcurrent_file\u001b[49m\u001b[43m,\u001b[49m\u001b[43m \u001b[49m\u001b[43mpatient\u001b[49m\u001b[43m,\u001b[49m\u001b[43m \u001b[49m\u001b[43mexperiment\u001b[49m\u001b[43m,\u001b[49m\u001b[43m \u001b[49m\u001b[33;43m'\u001b[39;49m\u001b[33;43mEmotion cleaned\u001b[39;49m\u001b[33;43m'\u001b[39;49m\u001b[43m)\u001b[49m\n\u001b[32m     15\u001b[39m     \u001b[38;5;28mprint\u001b[39m(\u001b[33mf\u001b[39m\u001b[33m\"\u001b[39m\u001b[33mPatient \u001b[39m\u001b[38;5;132;01m{\u001b[39;00mpatient\u001b[38;5;132;01m}\u001b[39;00m\u001b[33m Experiment \u001b[39m\u001b[38;5;132;01m{\u001b[39;00mexperiment\u001b[38;5;132;01m}\u001b[39;00m\u001b[33m complete...\u001b[39m\u001b[33m\"\u001b[39m)\n",
      "\u001b[36mFile \u001b[39m\u001b[32mc:\\Users\\Administrator\\Documents\\EEG_Social_Media_Analysis\\code\\EEG_cleaning.py:91\u001b[39m, in \u001b[36mmuse_clean\u001b[39m\u001b[34m(filepath, filename, subject_id, record_id, new_folder)\u001b[39m\n\u001b[32m     89\u001b[39m key_moment_timestamps = df[df[\u001b[33m\"\u001b[39m\u001b[33mKey_Moments\u001b[39m\u001b[33m\"\u001b[39m] == \u001b[32m1\u001b[39m].timestamp.tolist()\n\u001b[32m     90\u001b[39m \u001b[38;5;28mprint\u001b[39m(\u001b[33mf\u001b[39m\u001b[33m\"\u001b[39m\u001b[33mKey moments found at timestamps: \u001b[39m\u001b[38;5;132;01m{\u001b[39;00mkey_moment_timestamps\u001b[38;5;132;01m}\u001b[39;00m\u001b[33m\"\u001b[39m)\n\u001b[32m---> \u001b[39m\u001b[32m91\u001b[39m key_moment_timestamps = \u001b[43mdf\u001b[49m\u001b[43m.\u001b[49m\u001b[43mindex\u001b[49m\u001b[43m[\u001b[49m\u001b[32;43m0\u001b[39;49m\u001b[43m]\u001b[49m\u001b[43m \u001b[49m\u001b[43m+\u001b[49m\u001b[43m \u001b[49m\u001b[43mkey_moment_timestamps\u001b[49m \u001b[38;5;66;03m# Adds the first timestamp as an emotional marker as well\u001b[39;00m\n\u001b[32m     92\u001b[39m key_moment_intervals = [[timestamp, timestamp + \u001b[32m10\u001b[39m] \u001b[38;5;28;01mfor\u001b[39;00m timestamp \u001b[38;5;129;01min\u001b[39;00m key_moment_timestamps] \u001b[38;5;66;03m# 10 seconds after each key moment\u001b[39;00m\n\u001b[32m     93\u001b[39m \u001b[38;5;28;01mfor\u001b[39;00m low, high \u001b[38;5;129;01min\u001b[39;00m key_moment_intervals:\n",
      "\u001b[31mTypeError\u001b[39m: unsupported operand type(s) for +: 'int' and 'list'"
     ]
    }
   ],
   "source": [
    "import os\n",
    "\n",
    "folder_list = [r'../raw datasets/EmoKey Short/muse_wearable_data/' + folder for folder in os.listdir('../raw datasets/EmoKey Short/muse_wearable_data/')]\n",
    "\n",
    "for patient in range(1, 45):\n",
    "\n",
    "    current_folder = folder_list[patient - 1]\n",
    "    file_list = os.listdir(current_folder)\n",
    "\n",
    "    for experiment in range(1, 5):\n",
    "        # print(current_folder)\n",
    "        # print(file_list)\n",
    "        current_file = file_list[experiment - 1]\n",
    "        muse_clean(current_folder, current_file, patient, experiment, 'Emotion cleaned')\n",
    "        print(f\"Patient {patient} Experiment {experiment} complete...\")\n"
   ]
  },
  {
   "cell_type": "code",
   "execution_count": 5,
   "id": "ce3a1d5c",
   "metadata": {},
   "outputs": [
    {
     "name": "stdout",
     "output_type": "stream",
     "text": [
      "subject1-label-1-cleaned.csv (8906, 10)\n",
      "subject1-label-2-cleaned.csv (41748, 10)\n",
      "subject1-label-3-cleaned.csv (31868, 10)\n",
      "subject1-label-4-cleaned.csv (19851, 10)\n",
      "subject2-label-1-cleaned.csv (9907, 10)\n",
      "subject2-label-2-cleaned.csv (49644, 10)\n",
      "subject2-label-3-cleaned.csv (39290, 10)\n",
      "subject2-label-4-cleaned.csv (21150, 10)\n",
      "subject3-label-1-cleaned.csv (10096, 10)\n",
      "subject3-label-2-cleaned.csv (50387, 10)\n",
      "subject3-label-3-cleaned.csv (38993, 10)\n",
      "subject3-label-4-cleaned.csv (402, 10)\n",
      "subject4-label-1-cleaned.csv (9671, 10)\n",
      "subject4-label-2-cleaned.csv (46625, 10)\n",
      "subject4-label-3-cleaned.csv (35368, 10)\n",
      "subject4-label-4-cleaned.csv (20382, 10)\n",
      "subject5-label-1-cleaned.csv (10242, 10)\n",
      "subject5-label-2-cleaned.csv (49690, 10)\n",
      "subject5-label-3-cleaned.csv (39323, 10)\n",
      "subject5-label-4-cleaned.csv (21167, 10)\n",
      "subject6-label-1-cleaned.csv (8023, 10)\n",
      "subject6-label-2-cleaned.csv (47085, 10)\n",
      "subject6-label-3-cleaned.csv (37658, 10)\n",
      "subject6-label-4-cleaned.csv (20803, 10)\n",
      "subject7-label-1-cleaned.csv (9884, 10)\n",
      "subject7-label-2-cleaned.csv (49260, 10)\n",
      "subject7-label-3-cleaned.csv (39407, 10)\n",
      "subject7-label-4-cleaned.csv (16931, 10)\n",
      "subject8-label-1-cleaned.csv (10135, 10)\n",
      "subject8-label-2-cleaned.csv (50164, 10)\n",
      "subject8-label-3-cleaned.csv (38361, 10)\n",
      "subject8-label-4-cleaned.csv (21325, 10)\n",
      "subject9-label-1-cleaned.csv (12040, 10)\n",
      "subject9-label-2-cleaned.csv (49076, 10)\n",
      "subject9-label-3-cleaned.csv (39462, 10)\n",
      "subject9-label-4-cleaned.csv (21348, 10)\n",
      "subject10-label-1-cleaned.csv (9560, 10)\n",
      "subject10-label-2-cleaned.csv (47976, 10)\n",
      "subject10-label-3-cleaned.csv (36908, 10)\n",
      "subject10-label-4-cleaned.csv (3307, 10)\n",
      "subject11-label-1-cleaned.csv (9890, 10)\n",
      "subject11-label-2-cleaned.csv (44235, 10)\n",
      "subject11-label-3-cleaned.csv (35672, 10)\n",
      "subject11-label-4-cleaned.csv (12738, 10)\n",
      "subject12-label-1-cleaned.csv (10147, 10)\n",
      "subject12-label-2-cleaned.csv (50457, 10)\n",
      "subject12-label-3-cleaned.csv (39604, 10)\n",
      "subject12-label-4-cleaned.csv (20971, 10)\n",
      "subject13-label-1-cleaned.csv (5370, 10)\n",
      "subject13-label-2-cleaned.csv (21704, 10)\n",
      "subject13-label-3-cleaned.csv (18927, 10)\n",
      "subject13-label-4-cleaned.csv (15287, 10)\n",
      "subject14-label-1-cleaned.csv (7748, 10)\n",
      "subject14-label-2-cleaned.csv (48083, 10)\n",
      "subject14-label-3-cleaned.csv (38603, 10)\n",
      "subject14-label-4-cleaned.csv (21270, 10)\n",
      "subject15-label-1-cleaned.csv (9739, 10)\n",
      "subject15-label-2-cleaned.csv (50474, 10)\n",
      "subject15-label-3-cleaned.csv (39850, 10)\n",
      "subject15-label-4-cleaned.csv (21630, 10)\n",
      "subject16-label-1-cleaned.csv (9961, 10)\n",
      "subject16-label-2-cleaned.csv (50352, 10)\n",
      "subject16-label-3-cleaned.csv (39441, 10)\n",
      "subject16-label-4-cleaned.csv (21368, 10)\n",
      "subject17-label-1-cleaned.csv (9314, 10)\n",
      "subject17-label-2-cleaned.csv (50601, 10)\n",
      "subject17-label-3-cleaned.csv (39562, 10)\n",
      "subject17-label-4-cleaned.csv (21447, 10)\n",
      "subject18-label-1-cleaned.csv (7942, 10)\n",
      "subject18-label-2-cleaned.csv (48188, 10)\n",
      "subject18-label-3-cleaned.csv (35524, 10)\n",
      "subject18-label-4-cleaned.csv (21248, 10)\n",
      "subject19-label-1-cleaned.csv (9571, 10)\n",
      "subject19-label-2-cleaned.csv (48481, 10)\n",
      "subject19-label-3-cleaned.csv (37851, 10)\n",
      "subject19-label-4-cleaned.csv (21332, 10)\n",
      "subject20-label-1-cleaned.csv (9874, 10)\n",
      "subject20-label-2-cleaned.csv (48227, 10)\n",
      "subject20-label-3-cleaned.csv (34187, 10)\n",
      "subject20-label-4-cleaned.csv (19504, 10)\n",
      "subject21-label-1-cleaned.csv (647, 10)\n",
      "subject21-label-2-cleaned.csv (47887, 10)\n",
      "subject21-label-3-cleaned.csv (21014, 10)\n",
      "subject21-label-4-cleaned.csv (6850, 10)\n",
      "subject22-label-1-cleaned.csv (9103, 10)\n",
      "subject22-label-2-cleaned.csv (48728, 10)\n",
      "subject22-label-3-cleaned.csv (37976, 10)\n",
      "subject22-label-4-cleaned.csv (21271, 10)\n",
      "subject23-label-1-cleaned.csv (9715, 10)\n",
      "subject23-label-2-cleaned.csv (46733, 10)\n",
      "subject23-label-3-cleaned.csv (35485, 10)\n",
      "subject23-label-4-cleaned.csv (3341, 10)\n",
      "subject24-label-1-cleaned.csv (7779, 10)\n",
      "subject24-label-2-cleaned.csv (38724, 10)\n",
      "subject24-label-3-cleaned.csv (26601, 10)\n",
      "subject24-label-4-cleaned.csv (19055, 10)\n",
      "subject25-label-1-cleaned.csv (6141, 10)\n",
      "subject25-label-2-cleaned.csv (48535, 10)\n",
      "subject25-label-3-cleaned.csv (38695, 10)\n",
      "subject25-label-4-cleaned.csv (20936, 10)\n",
      "subject26-label-1-cleaned.csv (8442, 10)\n",
      "subject26-label-2-cleaned.csv (20123, 10)\n",
      "subject26-label-3-cleaned.csv (0, 10)\n",
      "subject26-label-4-cleaned.csv (20025, 10)\n",
      "subject27-label-1-cleaned.csv (9515, 10)\n",
      "subject27-label-2-cleaned.csv (49499, 10)\n",
      "subject27-label-3-cleaned.csv (38164, 10)\n",
      "subject27-label-4-cleaned.csv (20666, 10)\n",
      "subject28-label-1-cleaned.csv (9460, 10)\n",
      "subject28-label-2-cleaned.csv (49427, 10)\n",
      "subject28-label-3-cleaned.csv (35658, 10)\n",
      "subject28-label-4-cleaned.csv (14332, 10)\n",
      "subject29-label-1-cleaned.csv (9538, 10)\n",
      "subject29-label-2-cleaned.csv (519, 10)\n",
      "subject29-label-3-cleaned.csv (23334, 10)\n",
      "subject29-label-4-cleaned.csv (19603, 10)\n",
      "subject30-label-1-cleaned.csv (7849, 10)\n",
      "subject30-label-2-cleaned.csv (47335, 10)\n",
      "subject30-label-3-cleaned.csv (35692, 10)\n",
      "subject30-label-4-cleaned.csv (20114, 10)\n",
      "subject31-label-1-cleaned.csv (9621, 10)\n",
      "subject31-label-2-cleaned.csv (48311, 10)\n",
      "subject31-label-3-cleaned.csv (35179, 10)\n",
      "subject31-label-4-cleaned.csv (19273, 10)\n",
      "subject32-label-1-cleaned.csv (8762, 10)\n",
      "subject32-label-2-cleaned.csv (46560, 10)\n",
      "subject32-label-3-cleaned.csv (33223, 10)\n",
      "subject32-label-4-cleaned.csv (20492, 10)\n",
      "subject33-label-1-cleaned.csv (9567, 10)\n",
      "subject33-label-2-cleaned.csv (47580, 10)\n",
      "subject33-label-3-cleaned.csv (36880, 10)\n",
      "subject33-label-4-cleaned.csv (20586, 10)\n",
      "subject34-label-1-cleaned.csv (65, 10)\n",
      "subject34-label-2-cleaned.csv (8523, 10)\n",
      "subject34-label-3-cleaned.csv (22494, 10)\n",
      "subject34-label-4-cleaned.csv (7519, 10)\n",
      "subject35-label-1-cleaned.csv (1545, 10)\n",
      "subject35-label-2-cleaned.csv (48373, 10)\n",
      "subject35-label-3-cleaned.csv (39332, 10)\n",
      "subject35-label-4-cleaned.csv (20672, 10)\n",
      "subject36-label-1-cleaned.csv (5430, 10)\n",
      "subject36-label-2-cleaned.csv (1417, 10)\n",
      "subject36-label-3-cleaned.csv (33741, 10)\n",
      "subject36-label-4-cleaned.csv (13890, 10)\n",
      "subject37-label-1-cleaned.csv (2585, 10)\n",
      "subject37-label-2-cleaned.csv (29184, 10)\n",
      "subject37-label-3-cleaned.csv (3765, 10)\n",
      "subject37-label-4-cleaned.csv (12203, 10)\n",
      "subject38-label-1-cleaned.csv (7752, 10)\n",
      "subject38-label-2-cleaned.csv (36669, 10)\n",
      "subject38-label-3-cleaned.csv (29499, 10)\n",
      "subject38-label-4-cleaned.csv (19914, 10)\n",
      "subject39-label-1-cleaned.csv (8066, 10)\n",
      "subject39-label-2-cleaned.csv (38351, 10)\n",
      "subject39-label-3-cleaned.csv (36279, 10)\n",
      "subject39-label-4-cleaned.csv (19178, 10)\n",
      "subject40-label-1-cleaned.csv (8623, 10)\n",
      "subject40-label-2-cleaned.csv (47999, 10)\n",
      "subject40-label-3-cleaned.csv (37833, 10)\n",
      "subject40-label-4-cleaned.csv (21375, 10)\n",
      "subject41-label-1-cleaned.csv (5640, 10)\n",
      "subject41-label-2-cleaned.csv (27725, 10)\n",
      "subject41-label-3-cleaned.csv (30420, 10)\n",
      "subject41-label-4-cleaned.csv (14562, 10)\n",
      "subject42-label-1-cleaned.csv (9079, 10)\n",
      "subject42-label-2-cleaned.csv (50380, 10)\n",
      "subject42-label-3-cleaned.csv (39612, 10)\n",
      "subject42-label-4-cleaned.csv (21374, 10)\n",
      "subject43-label-1-cleaned.csv (9968, 10)\n",
      "subject43-label-2-cleaned.csv (50293, 10)\n",
      "subject43-label-3-cleaned.csv (40107, 10)\n",
      "subject43-label-4-cleaned.csv (21342, 10)\n",
      "subject44-label-1-cleaned.csv (8142, 10)\n",
      "subject44-label-2-cleaned.csv (46463, 10)\n",
      "subject44-label-3-cleaned.csv (37242, 10)\n",
      "subject44-label-4-cleaned.csv (19402, 10)\n",
      "All done!\n"
     ]
    }
   ],
   "source": [
    "# Some code to practice natural sorting and see which files are missing a lot of information\n",
    "import os\n",
    "import pandas as pd\n",
    "import re\n",
    "\n",
    "path = \"../cleaned datasets/Emotion cleaned/\"\n",
    "\n",
    "def natural_sort_key(s):\n",
    "        return [int(text) if text.isdigit() else text.lower() for text in re.split('([0-9]+)', s)]\n",
    "\n",
    "sorted_entries = sorted(os.listdir(path), key=natural_sort_key)\n",
    "for entry in sorted_entries:\n",
    "    file = pd.read_csv(os.path.join(path, entry))\n",
    "    shape = file.shape\n",
    "    print(entry, shape)\n",
    "\n",
    "print(\"All done!\")"
   ]
  },
  {
   "cell_type": "markdown",
   "id": "aad5cab2",
   "metadata": {},
   "source": [
    "General Cleaning Loop"
   ]
  },
  {
   "cell_type": "code",
   "execution_count": null,
   "id": "a74d553e",
   "metadata": {},
   "outputs": [],
   "source": [
    "def cleaning_loop(folder_list: list, new_folder: str = 'cleaned datasets') -> None:\n",
    "\n",
    "    \"\"\"\n",
    "    Inputs: A list of folder directories containing data, and a list of file names to be cleaned\n",
    "    Outputs: A new folder (customizable name) that contains the cleaned versions of all specified files in all specified folders\n",
    "\n",
    "    This code functions assuming it follows the following file naming scheme:\n",
    "    ```subject{name}-{label}-{label_number}.csv```\n",
    "    \"\"\"\n",
    "\n",
    "    import os\n",
    "\n",
    "    file_exists = True\n",
    "\n",
    "    for folder in folder_list:\n",
    "\n",
    "        try:\n",
    "            cwd = os.getcwd()\n",
    "            os.chdir(folder)\n",
    "            file_list = os.listdir()\n",
    "        except FileNotFoundError:\n",
    "            print(f\"Folder {folder} not found, try again!\")\n",
    "            break\n",
    "\n",
    "        for file in file_list:\n",
    "            subject_id = file.split('-')[0][-1]\n",
    "            label_id = file.split(('-'))[1] + file.split(('-'))[2]\n",
    "\n",
    "            try:\n",
    "                muse_clean(folder, file, subject_id, label_id, new_folder)\n",
    "                print(f\"Patient {subject_id} Experiment {label_id} complete...\")\n",
    "                print(\"All done!\")\n",
    "            except FileNotFoundError:\n",
    "                print(f\"File {file} does not exist, try again!\")\n",
    "                file_exists = False\n",
    "                break\n",
    "\n",
    "        if not file_exists:\n",
    "            break\n",
    "                \n"
   ]
  }
 ],
 "metadata": {
  "kernelspec": {
   "display_name": "neuromodulation",
   "language": "python",
   "name": "python3"
  },
  "language_info": {
   "codemirror_mode": {
    "name": "ipython",
    "version": 3
   },
   "file_extension": ".py",
   "mimetype": "text/x-python",
   "name": "python",
   "nbconvert_exporter": "python",
   "pygments_lexer": "ipython3",
   "version": "3.12.9"
  }
 },
 "nbformat": 4,
 "nbformat_minor": 5
}
